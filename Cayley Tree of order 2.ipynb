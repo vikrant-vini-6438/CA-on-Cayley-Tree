{
 "cells": [
  {
   "cell_type": "code",
   "execution_count": 1,
   "id": "f0cdec66",
   "metadata": {},
   "outputs": [],
   "source": [
    "class node:\n",
    "    def __init__(self,data):\n",
    "        self.prev_ = None\n",
    "        self.next_ = None\n",
    "        self.data = data\n",
    "    "
   ]
  },
  {
   "cell_type": "code",
   "execution_count": null,
   "id": "46eae370",
   "metadata": {},
   "outputs": [],
   "source": [
    "a = []\n",
    "root = node(1)\n",
    "a[1] = node(1)\n",
    "a[1].prev_ = root\n",
    "a[2] = node(0)\n",
    "a[2].prev_ = root\n",
    "a[3] = node(1)\n",
    "a[3].prev_ = root\n"
   ]
  },
  {
   "cell_type": "code",
   "execution_count": 1,
   "id": "bc40a917",
   "metadata": {},
   "outputs": [
    {
     "name": "stdout",
     "output_type": "stream",
     "text": [
      "levels: 2\n",
      "0 1 2 3 4 5 6 7 8 9\n"
     ]
    }
   ],
   "source": [
    "order = 2\n",
    "levels = int(input(\"levels: \"))\n",
    "d = order+1\n",
    "no_of_vertices = 1\n",
    "res = 0\n",
    "for i in range(0,levels):\n",
    "    res += (d-1)**i\n",
    "no_of_vertices += d*res\n",
    "node_data = [int(i) for i in input().split()]"
   ]
  },
  {
   "cell_type": "code",
   "execution_count": 2,
   "id": "969f453d",
   "metadata": {},
   "outputs": [],
   "source": [
    "class nodeC:\n",
    "    def __init__(self,data):\n",
    "        self.val = data\n",
    "        self.prev = None\n",
    "        self.next = None"
   ]
  },
  {
   "cell_type": "code",
   "execution_count": 3,
   "id": "d2323091",
   "metadata": {},
   "outputs": [],
   "source": [
    "#vertices available on each level\n",
    "vertices_at_each_level = [0]*levels\n",
    "vertices_at_each_level[0] = 1;vertices_at_each_level[1] = 3\n",
    "for i in range(2, len(vertices_at_each_level)+1):\n",
    "    vertices_at_each_level.append(2*vertices_at_each_level[i-1])"
   ]
  },
  {
   "cell_type": "code",
   "execution_count": 7,
   "id": "0750e210",
   "metadata": {},
   "outputs": [
    {
     "data": {
      "text/plain": [
       "[[<__main__.nodeC at 0x246048421d0>],\n",
       " [<__main__.nodeC at 0x24604842250>,\n",
       "  <__main__.nodeC at 0x24604842650>,\n",
       "  <__main__.nodeC at 0x246048414d0>],\n",
       " [<__main__.nodeC at 0x24604839550>,\n",
       "  <__main__.nodeC at 0x2460483a150>,\n",
       "  <__main__.nodeC at 0x24604839450>,\n",
       "  <__main__.nodeC at 0x2460483a350>,\n",
       "  <__main__.nodeC at 0x2460483a0d0>,\n",
       "  <__main__.nodeC at 0x2460483a310>]]"
      ]
     },
     "execution_count": 7,
     "metadata": {},
     "output_type": "execute_result"
    }
   ],
   "source": [
    "nodes = []\n",
    "temp = []\n",
    "idx = 0\n",
    "for i in vertices_at_each_level:\n",
    "    for _ in range(1,i+1):\n",
    "        temp.append(nodeC(node_data[idx]))\n",
    "        idx += 1\n",
    "    nodes.append(temp)\n",
    "    temp = []\n",
    "    \n",
    "nodestt"
   ]
  },
  {
   "cell_type": "code",
   "execution_count": 6,
   "id": "61bcf2ef",
   "metadata": {},
   "outputs": [
    {
     "name": "stdout",
     "output_type": "stream",
     "text": [
      "0\n",
      "1\n",
      "2\n",
      "3\n",
      "4\n",
      "5\n",
      "6\n",
      "7\n",
      "8\n",
      "9\n"
     ]
    }
   ],
   "source": [
    "nodes\n",
    "for ls in nodes:\n",
    "    for node in ls:\n",
    "        print(node.val)"
   ]
  },
  {
   "cell_type": "code",
   "execution_count": null,
   "id": "aa5a34ad",
   "metadata": {},
   "outputs": [],
   "source": []
  }
 ],
 "metadata": {
  "kernelspec": {
   "display_name": "Python 3 (ipykernel)",
   "language": "python",
   "name": "python3"
  },
  "language_info": {
   "codemirror_mode": {
    "name": "ipython",
    "version": 3
   },
   "file_extension": ".py",
   "mimetype": "text/x-python",
   "name": "python",
   "nbconvert_exporter": "python",
   "pygments_lexer": "ipython3",
   "version": "3.11.5"
  }
 },
 "nbformat": 4,
 "nbformat_minor": 5
}
